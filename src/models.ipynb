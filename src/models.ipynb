{
 "cells": [
  {
   "cell_type": "code",
   "execution_count": 20,
   "metadata": {},
   "outputs": [],
   "source": [
    "import numpy as np\n",
    "import pandas as pd\n",
    "import matplotlib.pyplot as plt\n",
    "import os\n",
    "from tqdm import tqdm\n",
    "import time\n",
    "import joblib\n",
    "import torch\n",
    "from torch import nn\n",
    "import torch.optim as optim\n",
    "import torch.utils.data as data\n",
    "\n",
    "save_path = \"../models/\""
   ]
  },
  {
   "cell_type": "code",
   "execution_count": null,
   "metadata": {},
   "outputs": [],
   "source": [
    "X_train = pd.read_csv(\"../datasets/inputs/train/X_train.csv\")\n",
    "y_train = pd.read_csv(\"../datasets/inputs/train/y_train.csv\")\n",
    "X_val = pd.read_csv(\"../datasets/inputs/val/X_val.csv\")\n",
    "y_val = pd.read_csv(\"../datasets/inputs/val/y_val.csv\")\n",
    "X_test = pd.read_csv(\"../datasets/inputs/test/X_test.csv\")\n",
    "y_test = pd.read_csv(\"../datasets/inputs/test/y_test.csv\")"
   ]
  },
  {
   "cell_type": "code",
   "execution_count": 17,
   "metadata": {},
   "outputs": [
    {
     "name": "stdout",
     "output_type": "stream",
     "text": [
      "Using device: cuda\n"
     ]
    }
   ],
   "source": [
    "device = torch.device(\"cuda\" if torch.cuda.is_available() else \"cpu\")\n",
    "print(f\"Using device: {device}\")\n",
    "\n",
    "train_dataset = data.TensorDataset(\n",
    "    torch.FloatTensor(X_train.values).to(device),\n",
    "    torch.FloatTensor(y_train.values).to(device),\n",
    ")\n",
    "val_dataset = data.TensorDataset(\n",
    "    torch.FloatTensor(X_val.values).to(device),\n",
    "    torch.FloatTensor(y_val.values).to(device),\n",
    ")\n",
    "test_dataset = data.TensorDataset(\n",
    "    torch.FloatTensor(X_test.values).to(device),\n",
    "    torch.FloatTensor(y_test.values).to(device),\n",
    ")\n",
    "\n",
    "batch_size = 1000\n",
    "train_loader = data.DataLoader(train_dataset, batch_size=batch_size, shuffle=True)\n",
    "val_loader = data.DataLoader(val_dataset, batch_size=batch_size)\n",
    "test_loader = data.DataLoader(test_dataset, batch_size=batch_size)"
   ]
  },
  {
   "cell_type": "code",
   "execution_count": 21,
   "metadata": {},
   "outputs": [],
   "source": [
    "class NeuralNetwork(nn.Module):\n",
    "    def __init__(self):\n",
    "        super(NeuralNetwork, self).__init__()\n",
    "        self.leaky_relu = nn.LeakyReLU()\n",
    "        self.input = nn.Linear(326, 512)\n",
    "        self.bn1 = nn.BatchNorm1d(512)\n",
    "        self.fc1 = nn.Linear(512, 256)\n",
    "        self.bn2 = nn.BatchNorm1d(256)\n",
    "        self.fc2 = nn.Linear(256, 128)\n",
    "        self.bn3 = nn.BatchNorm1d(128)\n",
    "        self.fc3 = nn.Linear(128, 64)\n",
    "        self.bn4 = nn.BatchNorm1d(64)\n",
    "        self.output = nn.Linear(64, 1)\n",
    "\n",
    "        self.optimizer = optim.Adam(\n",
    "            self.parameters(), lr=0.0001\n",
    "        )  # Reduced learning rate\n",
    "        self.criterion = nn.MSELoss()\n",
    "        self.losses = {\"train\": [], \"val\": []}\n",
    "        self.to(device)\n",
    "\n",
    "    def forward(self, x):\n",
    "        x = self.leaky_relu(self.bn1(self.input(x)))\n",
    "        x = self.leaky_relu(self.bn2(self.fc1(x)))\n",
    "        x = self.leaky_relu(self.bn3(self.fc2(x)))\n",
    "        x = self.leaky_relu(self.bn4(self.fc3(x)))\n",
    "        x = self.output(x)\n",
    "        return x\n",
    "\n",
    "    def train_step(self, x, y):\n",
    "        predictions = self(x)\n",
    "        loss = self.criterion(predictions, y)\n",
    "\n",
    "        self.optimizer.zero_grad()\n",
    "        loss.backward()\n",
    "        # Add gradient clipping\n",
    "        torch.nn.utils.clip_grad_norm_(self.parameters(), max_norm=1.0)\n",
    "        self.optimizer.step()\n",
    "\n",
    "        return loss.item()\n",
    "\n",
    "    def fit(self, epochs=100):\n",
    "        for _ in tqdm(range(epochs), desc=\"Training\", unit=\"epoch\"):\n",
    "            for x_batch, y_batch in train_loader:\n",
    "                loss = self.train_step(x_batch, y_batch)\n",
    "            self.losses[\"train\"].append(loss)\n",
    "        return self.losses\n",
    "\n",
    "    def evaluate(self):\n",
    "        self.eval()\n",
    "        with torch.no_grad():\n",
    "            for x_batch, y_batch in val_loader:\n",
    "                predictions = self(x_batch)\n",
    "                loss = self.criterion(predictions, y_batch)\n",
    "            self.losses[\"val\"].append(loss.item())\n",
    "        return self.losses\n",
    "\n",
    "    def predict(self, x):\n",
    "        self.eval()\n",
    "        with torch.no_grad():\n",
    "            predictions = self(x)\n",
    "        return predictions\n",
    "\n",
    "    def save(self, name):\n",
    "        joblib.dump(self.state_dict(), save_path + name)\n",
    "\n",
    "    def load(self, name):\n",
    "        self.load_state_dict(joblib.load(save_path + name))\n",
    "\n",
    "    def plot_losses(self):\n",
    "        plt.figure(figsize=(10, 6))\n",
    "        plt.plot(self.losses[\"train\"], label=\"Training Loss\")\n",
    "        plt.plot(self.losses[\"val\"], label=\"Validation Loss\")\n",
    "        plt.xlabel(\"Epoch\")\n",
    "        plt.ylabel(\"Loss\")\n",
    "        plt.title(\"Training and Validation Losses\")\n",
    "        plt.legend()\n",
    "        plt.grid(True)\n",
    "        plt.show()"
   ]
  },
  {
   "cell_type": "code",
   "execution_count": 22,
   "metadata": {},
   "outputs": [
    {
     "name": "stderr",
     "output_type": "stream",
     "text": [
      "Training:   0%|          | 0/10 [00:00<?, ?epoch/s]"
     ]
    },
    {
     "name": "stderr",
     "output_type": "stream",
     "text": [
      "Training: 100%|██████████| 10/10 [02:06<00:00, 12.69s/epoch]\n"
     ]
    },
    {
     "data": {
      "image/png": "[encoded data removed]",
      "text/plain": [
       "<Figure size 1000x600 with 1 Axes>"
      ]
     },
     "metadata": {},
     "output_type": "display_data"
    }
   ],
   "source": [
    "model = NeuralNetwork()\n",
    "model.fit(epochs=10)\n",
    "model.plot_losses()"
   ]
  },
  {
   "cell_type": "code",
   "execution_count": 23,
   "metadata": {},
   "outputs": [
    {
     "name": "stdout",
     "output_type": "stream",
     "text": [
      "{'train': [nan, nan, nan, nan, nan, nan, nan, nan, nan, nan], 'val': []}\n"
     ]
    }
   ],
   "source": [
    "print(model.losses)"
   ]
  }
 ],
 "metadata": {
  "kernelspec": {
   "display_name": ".venv",
   "language": "python",
   "name": "python3"
  },
  "language_info": {
   "codemirror_mode": {
    "name": "ipython",
    "version": 3
   },
   "file_extension": ".py",
   "mimetype": "text/x-python",
   "name": "python",
   "nbconvert_exporter": "python",
   "pygments_lexer": "ipython3",
   "version": "3.11.0"
  }
 },
 "nbformat": 4,
 "nbformat_minor": 2
}
